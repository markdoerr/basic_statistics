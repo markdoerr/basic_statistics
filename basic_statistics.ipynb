{
 "cells": [
  {
   "cell_type": "markdown",
   "metadata": {},
   "source": [
    "# Basic statistics with Python"
   ]
  },
  {
   "cell_type": "code",
   "execution_count": null,
   "metadata": {
    "collapsed": true
   },
   "outputs": [],
   "source": [
    "%matplotlib inline\n",
    "import matplotlib.pyplot as plt\n",
    "import numpy as np\n",
    "import scipy.misc \n",
    "import mpld3\n",
    "\n",
    "mpld3.enable_notebook()"
   ]
  },
  {
   "cell_type": "markdown",
   "metadata": {},
   "source": [
    "## Properties of the exponential function\n",
    "\n",
    "### The exponential function"
   ]
  },
  {
   "cell_type": "code",
   "execution_count": null,
   "metadata": {
    "collapsed": false
   },
   "outputs": [],
   "source": [
    "x_val = np.arange(0.0, 20.0, 0.1)\n",
    "\n",
    "exp_val = np.exp(x_val)\n",
    "\n",
    "plt.plot(x_val, exp_val)\n",
    "plt.plot(x_val, 1.5**x_val)\n",
    "plt.plot(x_val, 2**x_val)\n",
    "plt.plot(x_val, 3**x_val)\n",
    "plt.plot(x_val, 4**x_val)\n",
    "\n",
    "plt.title('exp')\n",
    "plt.axis([0, 10, 0, 500])\n",
    "plt.xlabel('x (x)')\n",
    "plt.ylabel('f (y)')\n",
    "plt.grid(True)\n",
    "plt.show()"
   ]
  },
  {
   "cell_type": "markdown",
   "metadata": {},
   "source": [
    "### How is the distribution function constructed ?\n",
    "Why is there a square in stead of abs ?"
   ]
  },
  {
   "cell_type": "code",
   "execution_count": null,
   "metadata": {
    "collapsed": false
   },
   "outputs": [],
   "source": [
    "x_val = np.arange(-20.0, 20.0, 0.1)\n",
    "\n",
    "exp_val = np.exp(-np.abs(x_val))\n",
    "\n",
    "line_e, = plt.plot(x_val, exp_val)\n",
    "\n",
    "line_15, = plt.plot(x_val, 1.5**(-np.abs(x_val)))\n",
    "line_2, = plt.plot(x_val, 2**(-np.abs(x_val)))\n",
    "line_3, = plt.plot(x_val, 3**(-np.abs(x_val)))\n",
    "line_4, = plt.plot(x_val, 4**(-np.abs(x_val)))\n",
    "\n",
    "plt.title('exp abs')\n",
    "plt.legend([line_e, line_15, line_2, line_3, line_4],[\"e\", \"1.5\", \"2\", \"3\", \"4\"] )\n",
    "plt.axis([-15, 15, 0, 1])\n",
    "plt.xlabel('x (x)')\n",
    "plt.ylabel('f (y)')\n",
    "\n",
    "plt.grid(True)\n",
    "plt.show()"
   ]
  },
  {
   "cell_type": "code",
   "execution_count": null,
   "metadata": {
    "collapsed": false
   },
   "outputs": [],
   "source": [
    "x_val = np.arange(-20.0, 20.0, 0.1)\n",
    "\n",
    "exp_val = np.exp(-(x_val)**2)\n",
    "\n",
    "line_e, = plt.plot(x_val, exp_val)\n",
    "\n",
    "line_15, = plt.plot(x_val, 1.5**(-(x_val**2)))\n",
    "line_2, = plt.plot(x_val, 2**(-(x_val**2)))\n",
    "line_3, = plt.plot(x_val, 3**(-(x_val**2)))\n",
    "line_4, = plt.plot(x_val, 4**(-(x_val**2)))\n",
    "\n",
    "plt.title('exp')\n",
    "plt.legend([line_e, line_15, line_2, line_3, line_4],[\"e\", \"1.5\", \"2\", \"3\", \"4\"] )\n",
    "plt.axis([-5, 5, 0, 1])\n",
    "plt.xlabel('x (x)')\n",
    "plt.ylabel('f (y)')\n",
    "plt.grid(True)\n",
    "plt.show()"
   ]
  },
  {
   "cell_type": "markdown",
   "metadata": {},
   "source": [
    "### Adding mean and standard deviation"
   ]
  },
  {
   "cell_type": "code",
   "execution_count": null,
   "metadata": {
    "collapsed": false
   },
   "outputs": [],
   "source": [
    "x_val = np.arange(-20.0, 20.0, 0.1)\n",
    "\n",
    "# play with these two values to see an effect:\n",
    "mean = -1.0\n",
    "sd = 1.0\n",
    "\n",
    "exp_val = np.exp(-(x_val-mean)**2/(2*sd**2))\n",
    "\n",
    "line_e, = plt.plot(x_val, exp_val)\n",
    "\n",
    "line_15, = plt.plot(x_val, 1.5**(-(x_val-mean)**2/(2*sd**2)))\n",
    "line_2, = plt.plot(x_val, 2**(-(x_val-mean)**2/(2*sd**2)))\n",
    "line_3, = plt.plot(x_val, 3**(-(x_val-mean)**2/(2*sd**2)))\n",
    "line_4, = plt.plot(x_val, 4**(-(x_val-mean)**2/(2*sd**2)))\n",
    "\n",
    "plt.title('exp')\n",
    "plt.legend([line_e, line_15, line_2, line_3, line_4],[\"e\", \"1.5\", \"2\", \"3\", \"4\"] )\n",
    "plt.axis([-5, 5, 0, 1])\n",
    "plt.xlabel('x (x)')\n",
    "plt.ylabel('f (y)')\n",
    "plt.grid(True)\n",
    "plt.show()"
   ]
  },
  {
   "cell_type": "markdown",
   "metadata": {},
   "source": [
    "### Properties of the GAUSS distribution\n",
    "\n",
    "- symmetrical, centered around mean\n",
    "- width is governed by standard deviation\n",
    "  - 68 % of data are with __$ 1\\sigma$__\n",
    "  - 95 % of the data is within __$ 2\\sigma$__ interval\n",
    "  - 98 % of data are within the __$ 3\\sigma$__ interval"
   ]
  },
  {
   "cell_type": "markdown",
   "metadata": {},
   "source": [
    "## POISSON distribution\n",
    "Small, destinct (non-continuous) datasets are often better described by the POISSON distribution"
   ]
  },
  {
   "cell_type": "code",
   "execution_count": null,
   "metadata": {
    "collapsed": false
   },
   "outputs": [],
   "source": [
    "x_val = np.arange(1, 5.0, 1)\n",
    "\n",
    "# play with these two values to see an effect:\n",
    "mean = 2\n",
    "sd = mean \n",
    "\n",
    "exp_val = mean**x_val * np.exp(-mean)/ scipy.misc.factorial(x_val)\n",
    "\n",
    "line_p, = plt.plot(x_val, exp_val)\n",
    "\n",
    "#line_15, = plt.plot(x_val, 1.5**(-(x_val-mean)**2/(2*sd**2)))\n",
    "#line_2, = plt.plot(x_val, 2**(-(x_val-mean)**2/(2*sd**2)))\n",
    "#line_3, = plt.plot(x_val, 3**(-(x_val-mean)**2/(2*sd**2)))\n",
    "#line_4, = plt.plot(x_val, 4**(-(x_val-mean)**2/(2*sd**2)))\n",
    "\n",
    "plt.title('POISSON distribution')\n",
    "#plt.legend([line_e, line_15, line_2, line_3, line_4],[\"e\", \"1.5\", \"2\", \"3\", \"4\"] )\n",
    "#plt.axis([-5, 5, 0, 1])\n",
    "plt.xlabel('x (x)')\n",
    "plt.ylabel('f (y)')\n",
    "plt.grid(True)\n",
    "plt.show()"
   ]
  },
  {
   "cell_type": "code",
   "execution_count": null,
   "metadata": {
    "collapsed": false
   },
   "outputs": [],
   "source": [
    "import numpy as np\n",
    "import matplotlib.pyplot as plt\n",
    "\n",
    "mu, sigma = 100, 15\n",
    "x = mu + sigma * np.random.randn(10000)\n",
    "\n",
    "# the histogram of the data\n",
    "n, bins, patches = plt.hist(x, 50, normed=1, facecolor='g', alpha=0.75)\n",
    "\n",
    "\n",
    "plt.xlabel('Smarts')\n",
    "plt.ylabel('Probability')\n",
    "plt.title('Histogram of IQ')\n",
    "plt.text(60, .025, r'$\\mu=100,\\ \\sigma=15$')\n",
    "plt.axis([40, 160, 0, 0.03])\n",
    "plt.grid(True)\n",
    "plt.show()"
   ]
  },
  {
   "cell_type": "code",
   "execution_count": null,
   "metadata": {
    "collapsed": true
   },
   "outputs": [],
   "source": []
  }
 ],
 "metadata": {
  "kernelspec": {
   "display_name": "Python 2",
   "language": "python",
   "name": "python2"
  },
  "language_info": {
   "codemirror_mode": {
    "name": "ipython",
    "version": 2
   },
   "file_extension": ".py",
   "mimetype": "text/x-python",
   "name": "python",
   "nbconvert_exporter": "python",
   "pygments_lexer": "ipython2",
   "version": "2.7.6"
  }
 },
 "nbformat": 4,
 "nbformat_minor": 0
}
